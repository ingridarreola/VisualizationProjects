{
 "cells": [
  {
   "cell_type": "markdown",
   "metadata": {},
   "source": [
    "# Pomodoro 2021\n",
    "\n",
    "## Purpose \n",
    "I've got a csv file with multiple years of information on how I spend time working on tasks and projects. This is a notebook that is going to clean up the file I have for all my pomodoro tasks. Previously I've done this cleaning in google sheets. I'd like to clean this up with pandas since I'm leaning Python.\n",
    "\n",
    "## Data\n",
    "This is my personal data, I use an app called BeFocused Pro which is a timer set for 25 minutes, a user can assign this timer to specific tasks. It's what I use when I work on projects, school assignments, work tasks, just about for everything. It's a method that I use to stay focused on a task. The data consists of time stamps and includes information from the 2017 to present day."
   ]
  },
  {
   "cell_type": "markdown",
   "metadata": {},
   "source": [
    "## Data Cleaning\n",
    "\n",
    "1. Import pandas and use the *read.csv* to read the csv with all of my data\n",
    "2. Review the columns present in my data with `data.columns` & then use `data.describe()` to review the characteristics of the numeric fields\n",
    "3. Remove duplicates that may be present here with `data.drop_duplicates(inplace = True)` will drop and save it to the current data, otherwise it would create a new data\n",
    "4. Remove any nulls that may be present with `data.isnull().any()` -- the `.any()` will check to see for each column if there are any null values at all"
   ]
  },
  {
   "cell_type": "markdown",
   "metadata": {},
   "source": [
    "### Data Cleaning - Step 1"
   ]
  },
  {
   "cell_type": "code",
   "execution_count": 2,
   "metadata": {},
   "outputs": [],
   "source": [
    "import pandas as pd\n",
    "\n",
    "data = pd.read_csv(\"C:/Users/iarreola/IU_B551_AI_Class/LearningPython/Pandas/BeFocused.csv\")"
   ]
  },
  {
   "cell_type": "markdown",
   "metadata": {},
   "source": [
    "### Data Cleaning - Step 2"
   ]
  },
  {
   "cell_type": "code",
   "execution_count": 4,
   "metadata": {},
   "outputs": [
    {
     "data": {
      "text/html": [
       "<div>\n",
       "<style scoped>\n",
       "    .dataframe tbody tr th:only-of-type {\n",
       "        vertical-align: middle;\n",
       "    }\n",
       "\n",
       "    .dataframe tbody tr th {\n",
       "        vertical-align: top;\n",
       "    }\n",
       "\n",
       "    .dataframe thead th {\n",
       "        text-align: right;\n",
       "    }\n",
       "</style>\n",
       "<table border=\"1\" class=\"dataframe\">\n",
       "  <thead>\n",
       "    <tr style=\"text-align: right;\">\n",
       "      <th></th>\n",
       "      <th>Duration</th>\n",
       "    </tr>\n",
       "  </thead>\n",
       "  <tbody>\n",
       "    <tr>\n",
       "      <th>count</th>\n",
       "      <td>6533.0</td>\n",
       "    </tr>\n",
       "    <tr>\n",
       "      <th>mean</th>\n",
       "      <td>25.0</td>\n",
       "    </tr>\n",
       "    <tr>\n",
       "      <th>std</th>\n",
       "      <td>0.0</td>\n",
       "    </tr>\n",
       "    <tr>\n",
       "      <th>min</th>\n",
       "      <td>25.0</td>\n",
       "    </tr>\n",
       "    <tr>\n",
       "      <th>25%</th>\n",
       "      <td>25.0</td>\n",
       "    </tr>\n",
       "    <tr>\n",
       "      <th>50%</th>\n",
       "      <td>25.0</td>\n",
       "    </tr>\n",
       "    <tr>\n",
       "      <th>75%</th>\n",
       "      <td>25.0</td>\n",
       "    </tr>\n",
       "    <tr>\n",
       "      <th>max</th>\n",
       "      <td>25.0</td>\n",
       "    </tr>\n",
       "  </tbody>\n",
       "</table>\n",
       "</div>"
      ],
      "text/plain": [
       "        Duration\n",
       "count     6533.0\n",
       "mean        25.0\n",
       "std          0.0\n",
       "min         25.0\n",
       "25%         25.0\n",
       "50%         25.0\n",
       "75%         25.0\n",
       "max         25.0"
      ]
     },
     "execution_count": 4,
     "metadata": {},
     "output_type": "execute_result"
    }
   ],
   "source": [
    "data.columns\n",
    "data.describe()"
   ]
  },
  {
   "cell_type": "markdown",
   "metadata": {},
   "source": [
    "### Data Cleaning - Step 3"
   ]
  },
  {
   "cell_type": "code",
   "execution_count": 5,
   "metadata": {},
   "outputs": [],
   "source": [
    "data.drop_duplicates(inplace= True)"
   ]
  },
  {
   "cell_type": "markdown",
   "metadata": {},
   "source": [
    "### Data Cleaning - Step 4"
   ]
  },
  {
   "cell_type": "code",
   "execution_count": 7,
   "metadata": {},
   "outputs": [
    {
     "data": {
      "text/plain": [
       "Start date        False\n",
       " Duration         False\n",
       " Assigned task    False\n",
       " Task state       False\n",
       "dtype: bool"
      ]
     },
     "execution_count": 7,
     "metadata": {},
     "output_type": "execute_result"
    }
   ],
   "source": [
    "data.isnull().any()"
   ]
  },
  {
   "cell_type": "markdown",
   "metadata": {},
   "source": [
    "## Data Transformation\n",
    "\n",
    "So far, the data is pretty clean. I want to move onto the data transformation. Let's start with the time stamp. I want to move this into Tableau and know that it's easier (or at least, it's *my personal preference*) to work with data that's cleaned up and ready to use. I want to clean up that time stamp and make additional columns which create a column for year, month, day, time, etc. \n",
    "\n",
    "1. Check the first few columns of *data* so that I know what to choose for the *timestamp* column\n",
    "2. Rename my columns so it's easier to follow the clean up steps that follow. \n",
    "3. `Slice` the `Start date` column, where we specify the from the end to the beginning. I want to slice my data to get the following breakouts into its own column in my table:\n",
    "- Time\n",
    "- Year\n",
    "- Month\n",
    "- MM/DD/YYYY\n",
    "  - For this first I'll convert my string to a `date` and then create a new column using the format that I like"
   ]
  },
  {
   "cell_type": "markdown",
   "metadata": {},
   "source": [
    "### Data Transformation - Step 1 "
   ]
  },
  {
   "cell_type": "code",
   "execution_count": 10,
   "metadata": {},
   "outputs": [
    {
     "data": {
      "text/html": [
       "<div>\n",
       "<style scoped>\n",
       "    .dataframe tbody tr th:only-of-type {\n",
       "        vertical-align: middle;\n",
       "    }\n",
       "\n",
       "    .dataframe tbody tr th {\n",
       "        vertical-align: top;\n",
       "    }\n",
       "\n",
       "    .dataframe thead th {\n",
       "        text-align: right;\n",
       "    }\n",
       "</style>\n",
       "<table border=\"1\" class=\"dataframe\">\n",
       "  <thead>\n",
       "    <tr style=\"text-align: right;\">\n",
       "      <th></th>\n",
       "      <th>Start date</th>\n",
       "      <th>Duration</th>\n",
       "      <th>Assigned task</th>\n",
       "      <th>Task state</th>\n",
       "    </tr>\n",
       "  </thead>\n",
       "  <tbody>\n",
       "    <tr>\n",
       "      <th>0</th>\n",
       "      <td>Sep 5  2017 at 5:49:26 PM</td>\n",
       "      <td>25</td>\n",
       "      <td>Parachute book</td>\n",
       "      <td>Done</td>\n",
       "    </tr>\n",
       "    <tr>\n",
       "      <th>1</th>\n",
       "      <td>Sep 6  2017 at 11:25:52 AM</td>\n",
       "      <td>25</td>\n",
       "      <td>STAR</td>\n",
       "      <td>Done</td>\n",
       "    </tr>\n",
       "    <tr>\n",
       "      <th>2</th>\n",
       "      <td>Sep 6  2017 at 12:05:30 PM</td>\n",
       "      <td>25</td>\n",
       "      <td>STAR</td>\n",
       "      <td>Done</td>\n",
       "    </tr>\n",
       "    <tr>\n",
       "      <th>3</th>\n",
       "      <td>Sep 6  2017 at 12:38:43 PM</td>\n",
       "      <td>25</td>\n",
       "      <td>STAR</td>\n",
       "      <td>Done</td>\n",
       "    </tr>\n",
       "    <tr>\n",
       "      <th>4</th>\n",
       "      <td>Sep 6  2017 at 1:22:58 PM</td>\n",
       "      <td>25</td>\n",
       "      <td>STAR</td>\n",
       "      <td>Done</td>\n",
       "    </tr>\n",
       "  </tbody>\n",
       "</table>\n",
       "</div>"
      ],
      "text/plain": [
       "                   Start date   Duration   Assigned task  Task state \n",
       "0   Sep 5  2017 at 5:49:26 PM         25  Parachute book        Done \n",
       "1  Sep 6  2017 at 11:25:52 AM         25            STAR        Done \n",
       "2  Sep 6  2017 at 12:05:30 PM         25            STAR        Done \n",
       "3  Sep 6  2017 at 12:38:43 PM         25            STAR        Done \n",
       "4   Sep 6  2017 at 1:22:58 PM         25            STAR        Done "
      ]
     },
     "execution_count": 10,
     "metadata": {},
     "output_type": "execute_result"
    }
   ],
   "source": [
    "data.head()"
   ]
  },
  {
   "cell_type": "markdown",
   "metadata": {},
   "source": [
    "### Data Transformation - Step 2"
   ]
  },
  {
   "cell_type": "code",
   "execution_count": 18,
   "metadata": {},
   "outputs": [],
   "source": [
    "data.columns = ['Start_date', 'Duration', 'Assigned_Task', 'Task_State']\n",
    "data.head()"
   ]
  },
  {
   "cell_type": "markdown",
   "metadata": {},
   "source": [
    "### Data Transformation - Step 3"
   ]
  },
  {
   "cell_type": "code",
   "execution_count": 63,
   "metadata": {},
   "outputs": [],
   "source": [
    "data['Time'] = data.Start_date.str.slice(-11)"
   ]
  },
  {
   "cell_type": "code",
   "execution_count": 62,
   "metadata": {},
   "outputs": [],
   "source": [
    "data['AM_PM'] = data.Start_date.str.slice(-3)"
   ]
  },
  {
   "cell_type": "code",
   "execution_count": 69,
   "metadata": {},
   "outputs": [],
   "source": [
    "data['Year'] = data.Start_date.str.slice(-20,-14)"
   ]
  },
  {
   "cell_type": "code",
   "execution_count": 72,
   "metadata": {},
   "outputs": [],
   "source": [
    "data['Full_Date'] = data.Start_date.str.slice(-27,-14)"
   ]
  },
  {
   "cell_type": "code",
   "execution_count": 80,
   "metadata": {},
   "outputs": [],
   "source": [
    "date_sr = pd.to_datetime(data.Full_Date)\n",
    "\n",
    "data['Short_Date'] = date_sr.dt.strftime('%m/%d/%Y')"
   ]
  },
  {
   "cell_type": "code",
   "execution_count": 81,
   "metadata": {},
   "outputs": [
    {
     "data": {
      "text/html": [
       "<div>\n",
       "<style scoped>\n",
       "    .dataframe tbody tr th:only-of-type {\n",
       "        vertical-align: middle;\n",
       "    }\n",
       "\n",
       "    .dataframe tbody tr th {\n",
       "        vertical-align: top;\n",
       "    }\n",
       "\n",
       "    .dataframe thead th {\n",
       "        text-align: right;\n",
       "    }\n",
       "</style>\n",
       "<table border=\"1\" class=\"dataframe\">\n",
       "  <thead>\n",
       "    <tr style=\"text-align: right;\">\n",
       "      <th></th>\n",
       "      <th>Start_date</th>\n",
       "      <th>Duration</th>\n",
       "      <th>Assigned_Task</th>\n",
       "      <th>Task_State</th>\n",
       "      <th>Time</th>\n",
       "      <th>AM_PM</th>\n",
       "      <th>Year</th>\n",
       "      <th>Full_Date</th>\n",
       "      <th>Short_Date</th>\n",
       "    </tr>\n",
       "  </thead>\n",
       "  <tbody>\n",
       "    <tr>\n",
       "      <th>0</th>\n",
       "      <td>Sep 5  2017 at 5:49:26 PM</td>\n",
       "      <td>25</td>\n",
       "      <td>Parachute book</td>\n",
       "      <td>Done</td>\n",
       "      <td>5:49:26 PM</td>\n",
       "      <td>PM</td>\n",
       "      <td>2017</td>\n",
       "      <td>Sep 5  2017</td>\n",
       "      <td>09/05/2017</td>\n",
       "    </tr>\n",
       "    <tr>\n",
       "      <th>1</th>\n",
       "      <td>Sep 6  2017 at 11:25:52 AM</td>\n",
       "      <td>25</td>\n",
       "      <td>STAR</td>\n",
       "      <td>Done</td>\n",
       "      <td>11:25:52 AM</td>\n",
       "      <td>AM</td>\n",
       "      <td>2017</td>\n",
       "      <td>Sep 6  2017</td>\n",
       "      <td>09/06/2017</td>\n",
       "    </tr>\n",
       "    <tr>\n",
       "      <th>2</th>\n",
       "      <td>Sep 6  2017 at 12:05:30 PM</td>\n",
       "      <td>25</td>\n",
       "      <td>STAR</td>\n",
       "      <td>Done</td>\n",
       "      <td>12:05:30 PM</td>\n",
       "      <td>PM</td>\n",
       "      <td>2017</td>\n",
       "      <td>Sep 6  2017</td>\n",
       "      <td>09/06/2017</td>\n",
       "    </tr>\n",
       "    <tr>\n",
       "      <th>3</th>\n",
       "      <td>Sep 6  2017 at 12:38:43 PM</td>\n",
       "      <td>25</td>\n",
       "      <td>STAR</td>\n",
       "      <td>Done</td>\n",
       "      <td>12:38:43 PM</td>\n",
       "      <td>PM</td>\n",
       "      <td>2017</td>\n",
       "      <td>Sep 6  2017</td>\n",
       "      <td>09/06/2017</td>\n",
       "    </tr>\n",
       "    <tr>\n",
       "      <th>4</th>\n",
       "      <td>Sep 6  2017 at 1:22:58 PM</td>\n",
       "      <td>25</td>\n",
       "      <td>STAR</td>\n",
       "      <td>Done</td>\n",
       "      <td>1:22:58 PM</td>\n",
       "      <td>PM</td>\n",
       "      <td>2017</td>\n",
       "      <td>Sep 6  2017</td>\n",
       "      <td>09/06/2017</td>\n",
       "    </tr>\n",
       "  </tbody>\n",
       "</table>\n",
       "</div>"
      ],
      "text/plain": [
       "                   Start_date  Duration   Assigned_Task Task_State  \\\n",
       "0   Sep 5  2017 at 5:49:26 PM        25  Parachute book      Done    \n",
       "1  Sep 6  2017 at 11:25:52 AM        25            STAR      Done    \n",
       "2  Sep 6  2017 at 12:05:30 PM        25            STAR      Done    \n",
       "3  Sep 6  2017 at 12:38:43 PM        25            STAR      Done    \n",
       "4   Sep 6  2017 at 1:22:58 PM        25            STAR      Done    \n",
       "\n",
       "          Time AM_PM    Year     Full_Date  Short_Date  \n",
       "0   5:49:26 PM    PM    2017   Sep 5  2017  09/05/2017  \n",
       "1  11:25:52 AM    AM   2017   Sep 6  2017   09/06/2017  \n",
       "2  12:05:30 PM    PM   2017   Sep 6  2017   09/06/2017  \n",
       "3  12:38:43 PM    PM   2017   Sep 6  2017   09/06/2017  \n",
       "4   1:22:58 PM    PM    2017   Sep 6  2017  09/06/2017  "
      ]
     },
     "execution_count": 81,
     "metadata": {},
     "output_type": "execute_result"
    }
   ],
   "source": [
    "data.head()"
   ]
  },
  {
   "cell_type": "markdown",
   "metadata": {},
   "source": [
    "## Data Exploration: 2021\n",
    "\n",
    "Now that I've added my additional columns I want to explore 2021, to see if I can create additional columns, so that it's even easier to use inside of Tableau."
   ]
  },
  {
   "cell_type": "code",
   "execution_count": 92,
   "metadata": {},
   "outputs": [],
   "source": [
    "data['Short_Date'] = pd.to_datetime(data['Short_Date'])"
   ]
  },
  {
   "cell_type": "code",
   "execution_count": 100,
   "metadata": {},
   "outputs": [
    {
     "data": {
      "text/html": [
       "<div>\n",
       "<style scoped>\n",
       "    .dataframe tbody tr th:only-of-type {\n",
       "        vertical-align: middle;\n",
       "    }\n",
       "\n",
       "    .dataframe tbody tr th {\n",
       "        vertical-align: top;\n",
       "    }\n",
       "\n",
       "    .dataframe thead th {\n",
       "        text-align: right;\n",
       "    }\n",
       "</style>\n",
       "<table border=\"1\" class=\"dataframe\">\n",
       "  <thead>\n",
       "    <tr style=\"text-align: right;\">\n",
       "      <th></th>\n",
       "      <th>Start_date</th>\n",
       "      <th>Duration</th>\n",
       "      <th>Assigned_Task</th>\n",
       "      <th>Task_State</th>\n",
       "      <th>Time</th>\n",
       "      <th>AM_PM</th>\n",
       "      <th>Year</th>\n",
       "      <th>Full_Date</th>\n",
       "      <th>Short_Date</th>\n",
       "    </tr>\n",
       "  </thead>\n",
       "  <tbody>\n",
       "    <tr>\n",
       "      <th>4612</th>\n",
       "      <td>Jan 1  2021 at 9:12:38 AM</td>\n",
       "      <td>25</td>\n",
       "      <td>Reading</td>\n",
       "      <td>To Do</td>\n",
       "      <td>9:12:38 AM</td>\n",
       "      <td>AM</td>\n",
       "      <td>2021</td>\n",
       "      <td>Jan 1  2021</td>\n",
       "      <td>2021-01-01</td>\n",
       "    </tr>\n",
       "    <tr>\n",
       "      <th>4613</th>\n",
       "      <td>Jan 1  2021 at 12:54:12 PM</td>\n",
       "      <td>25</td>\n",
       "      <td>Bullet Journal 2021</td>\n",
       "      <td>To Do</td>\n",
       "      <td>12:54:12 PM</td>\n",
       "      <td>PM</td>\n",
       "      <td>2021</td>\n",
       "      <td>Jan 1  2021</td>\n",
       "      <td>2021-01-01</td>\n",
       "    </tr>\n",
       "    <tr>\n",
       "      <th>4614</th>\n",
       "      <td>Jan 1  2021 at 1:25:06 PM</td>\n",
       "      <td>25</td>\n",
       "      <td>Bullet Journal 2021</td>\n",
       "      <td>To Do</td>\n",
       "      <td>1:25:06 PM</td>\n",
       "      <td>PM</td>\n",
       "      <td>2021</td>\n",
       "      <td>Jan 1  2021</td>\n",
       "      <td>2021-01-01</td>\n",
       "    </tr>\n",
       "    <tr>\n",
       "      <th>4615</th>\n",
       "      <td>Jan 1  2021 at 1:50:31 PM</td>\n",
       "      <td>25</td>\n",
       "      <td>Bullet Journal 2021</td>\n",
       "      <td>To Do</td>\n",
       "      <td>1:50:31 PM</td>\n",
       "      <td>PM</td>\n",
       "      <td>2021</td>\n",
       "      <td>Jan 1  2021</td>\n",
       "      <td>2021-01-01</td>\n",
       "    </tr>\n",
       "    <tr>\n",
       "      <th>4616</th>\n",
       "      <td>Jan 1  2021 at 2:25:33 PM</td>\n",
       "      <td>25</td>\n",
       "      <td>Bullet Journal 2021</td>\n",
       "      <td>To Do</td>\n",
       "      <td>2:25:33 PM</td>\n",
       "      <td>PM</td>\n",
       "      <td>2021</td>\n",
       "      <td>Jan 1  2021</td>\n",
       "      <td>2021-01-01</td>\n",
       "    </tr>\n",
       "  </tbody>\n",
       "</table>\n",
       "</div>"
      ],
      "text/plain": [
       "                      Start_date  Duration        Assigned_Task Task_State  \\\n",
       "4612   Jan 1  2021 at 9:12:38 AM        25              Reading     To Do    \n",
       "4613  Jan 1  2021 at 12:54:12 PM        25  Bullet Journal 2021     To Do    \n",
       "4614   Jan 1  2021 at 1:25:06 PM        25  Bullet Journal 2021     To Do    \n",
       "4615   Jan 1  2021 at 1:50:31 PM        25  Bullet Journal 2021     To Do    \n",
       "4616   Jan 1  2021 at 2:25:33 PM        25  Bullet Journal 2021     To Do    \n",
       "\n",
       "             Time AM_PM    Year     Full_Date Short_Date  \n",
       "4612   9:12:38 AM    AM    2021   Jan 1  2021 2021-01-01  \n",
       "4613  12:54:12 PM    PM   2021   Jan 1  2021  2021-01-01  \n",
       "4614   1:25:06 PM    PM    2021   Jan 1  2021 2021-01-01  \n",
       "4615   1:50:31 PM    PM    2021   Jan 1  2021 2021-01-01  \n",
       "4616   2:25:33 PM    PM    2021   Jan 1  2021 2021-01-01  "
      ]
     },
     "execution_count": 100,
     "metadata": {},
     "output_type": "execute_result"
    }
   ],
   "source": [
    "current_year = pd.to_datetime('1/1/2021')\n",
    "\n",
    "my_year = data.loc[data.Short_Date >= current_year, :]\n"
   ]
  },
  {
   "cell_type": "code",
   "execution_count": 110,
   "metadata": {},
   "outputs": [],
   "source": [
    "my_year.to_csv('C:/Users/iarreola/IU_B551_AI_Class/LearningPython/Pandas/BeFocused_2021.csv')"
   ]
  },
  {
   "cell_type": "code",
   "execution_count": 104,
   "metadata": {},
   "outputs": [
    {
     "data": {
      "text/plain": [
       "Assigned_Task\n",
       "Standard Reports                 7475\n",
       "Writing 2021                     4850\n",
       "Grad School                      4075\n",
       "Bullet Journal 2021              2900\n",
       "Bookings Projects                2625\n",
       "Artificial Intelligence Class    2600\n",
       "L2 Codeacademy                   2575\n",
       "Reading                          2350\n",
       "Management Dashboard             1575\n",
       "APM                              1475\n",
       "Learning (Pluralsight)           1400\n",
       "APM Project                      1375\n",
       "Data Literacy                    1375\n",
       "MFT                              1300\n",
       "F&S Projects (Misc)              1175\n",
       "Career Projects                  1050\n",
       "Iron Quest 2021                  1025\n",
       "Tableau Template                 1000\n",
       "Primerica                         825\n",
       "F&S Tableau Learning Tools        750\n",
       "Makeover Monday 2021              725\n",
       "L1 Data Camp                      700\n",
       "Trailhead                         600\n",
       "66 Days of Data                   450\n",
       "Flipping Finance                  450\n",
       "Tableau Certification             400\n",
       "Drawing                           375\n",
       "Viz Projects                      175\n",
       "VTO                               100\n",
       "30 Days of Python                  75\n",
       "Data Manipulation with Pandas      50\n",
       "Tableau ELearning                  50\n",
       "Workout Wednesday                  50\n",
       "Leetcode                           25\n",
       "Natural Language Processing        25\n",
       "Name: Duration, dtype: int64"
      ]
     },
     "execution_count": 104,
     "metadata": {},
     "output_type": "execute_result"
    }
   ],
   "source": [
    "my_year.groupby('Assigned_Task').Duration.sum().sort_values(ascending = False)"
   ]
  }
 ],
 "metadata": {
  "interpreter": {
   "hash": "8ef73d72e95efb618949beef636a04220fe99c0f69d98bece5f284665d8182fe"
  },
  "kernelspec": {
   "display_name": "Python 3.8.5 64-bit ('base': conda)",
   "language": "python",
   "name": "python3"
  },
  "language_info": {
   "codemirror_mode": {
    "name": "ipython",
    "version": 3
   },
   "file_extension": ".py",
   "mimetype": "text/x-python",
   "name": "python",
   "nbconvert_exporter": "python",
   "pygments_lexer": "ipython3",
   "version": "3.8.5"
  },
  "orig_nbformat": 4
 },
 "nbformat": 4,
 "nbformat_minor": 2
}
