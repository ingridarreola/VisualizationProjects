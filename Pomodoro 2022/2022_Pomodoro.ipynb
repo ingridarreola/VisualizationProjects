{
 "cells": [
  {
   "cell_type": "markdown",
   "metadata": {},
   "source": [
    "# 2022 Pomodoro\n",
    "\n",
    "## Purpose \n",
    "I've got a csv file with multiple years of information on how I spend time working on tasks and projects. This is a notebook that is going to clean up the file I have for all my pomodoro tasks. Previously I've done this cleaning in google sheets. I'd like to clean this up with pandas since I'm leaning Python.\n",
    "\n",
    "## Data\n",
    "This is my personal data, I use an app called BeFocused Pro which is a timer set for 25 minutes, a user can assign this timer to specific tasks. It's what I use when I work on projects, school assignments, work tasks, just about for everything. It's a method that I use to stay focused on a task. The data consists of time stamps and includes information from the 2017 to present day.\n",
    "\n",
    "## Data Cleaning\n",
    "\n",
    "1. Import pandas and use the *read.csv* to read the csv with all of my data\n",
    "2. Review the columns present in my data with `data.columns` & then use `data.describe()` to review the characteristics of the numeric fields\n",
    "3. Remove duplicates that may be present here with `data.drop_duplicates(inplace = True)` will drop and save it to the current data, otherwise it would create a new data\n",
    "4. Remove any nulls that may be present with `data.isnull().any()` -- the `.any()` will check to see for each column if there are any null values at all\n",
    "\n",
    "### Data Cleaning Step 1"
   ]
  },
  {
   "cell_type": "code",
   "execution_count": 6,
   "metadata": {},
   "outputs": [
    {
     "ename": "ModuleNotFoundError",
     "evalue": "No module named 'pandas'",
     "output_type": "error",
     "traceback": [
      "\u001b[0;31m---------------------------------------------------------------------------\u001b[0m",
      "\u001b[0;31mModuleNotFoundError\u001b[0m                       Traceback (most recent call last)",
      "\u001b[0;32m/var/folders/6n/qvq0486x3rgffl33nn8j4mb00000gn/T/ipykernel_10818/2077775699.py\u001b[0m in \u001b[0;36m<module>\u001b[0;34m\u001b[0m\n\u001b[0;32m----> 1\u001b[0;31m \u001b[0;32mimport\u001b[0m \u001b[0mpandas\u001b[0m \u001b[0;32mas\u001b[0m \u001b[0mpd\u001b[0m\u001b[0;34m\u001b[0m\u001b[0;34m\u001b[0m\u001b[0m\n\u001b[0m\u001b[1;32m      2\u001b[0m \u001b[0;34m\u001b[0m\u001b[0m\n\u001b[1;32m      3\u001b[0m \u001b[0mdata\u001b[0m \u001b[0;34m=\u001b[0m \u001b[0mpd\u001b[0m\u001b[0;34m.\u001b[0m\u001b[0mread_csv\u001b[0m\u001b[0;34m(\u001b[0m\u001b[0;34m\"/Users/ingridarreola/Documents/GitHub/VisualizationProjects/Pomodoro 2022/Jan_23.csv\"\u001b[0m\u001b[0;34m)\u001b[0m\u001b[0;34m\u001b[0m\u001b[0;34m\u001b[0m\u001b[0m\n",
      "\u001b[0;31mModuleNotFoundError\u001b[0m: No module named 'pandas'"
     ]
    }
   ],
   "source": [
    "import pandas as pd\n",
    "\n",
    "data = pd.read_csv(\"/Users/ingridarreola/Documents/GitHub/VisualizationProjects/Pomodoro 2022/Jan_23.csv\")"
   ]
  }
 ],
 "metadata": {
  "interpreter": {
   "hash": "aee8b7b246df8f9039afb4144a1f6fd8d2ca17a180786b69acc140d282b71a49"
  },
  "kernelspec": {
   "display_name": "Python 3.10.1 64-bit",
   "language": "python",
   "name": "python3"
  },
  "language_info": {
   "codemirror_mode": {
    "name": "ipython",
    "version": 3
   },
   "file_extension": ".py",
   "mimetype": "text/x-python",
   "name": "python",
   "nbconvert_exporter": "python",
   "pygments_lexer": "ipython3",
   "version": "3.10.1"
  },
  "orig_nbformat": 4
 },
 "nbformat": 4,
 "nbformat_minor": 2
}
