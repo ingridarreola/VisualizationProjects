{
 "cells": [
  {
   "cell_type": "markdown",
   "metadata": {},
   "source": [
    "# Getting Census Tracts\n",
    "After doing some investigation on geography with the census I think that census tracts are perfect for this project. The census block is the smallest unit -- however I don't think we need geography quite so granular. Indiana does a great job with sharing data, and STATSINDIANA has a great tool that lets you see the [Indiana census tracts in an interactive map](https://www.stats.indiana.edu/maptools/c2020/tracts.asp). \n",
    "\n",
    "This is great .. but it still doesn't meet my need. I need the actual raw data, the latitude and longitude, or something that will let me map it to my own needs. A quick google search shows that the Census has the [Gazetteer Files](https://www.census.gov/geographies/reference-files/time-series/geo/gazetteer-files.html) which has geographic areas and files ready for use.\n",
    "\n",
    "Great, so now this has the raw file that I need. Again, we're closer but not quite there. I would like this to be in a csv or something that I can easily import ... and use for future projects. CSVs are way easier to use than a shape file (in my opinion). At the very least they can be used across multiple platforms. Surely Python can be used for this.\n",
    "\n",
    "\n",
    "1. Visit the Indiana census tracts in an interactive map](https://www.stats.indiana.edu/maptools/c2020/tracts.asp) to make sure this level of granularity meets the requirement\n",
    "2. Visit the [Gazetteer Files](https://www.census.gov/geographies/reference-files/time-series/geo/gazetteer-files.html) to `Download a Single State Census Tracts Gazetteer File` and select the desired file.\n",
    "3. This link then opens up a text file. \n",
    "4. Import the `requests` library and save this to a txt file, which will then be converted to a csv so that we can use it for this project.\n",
    "5. Import the 'pandas' library to save the text file into a csv. This can now be used inside of Tableau. I just want a literal map so that I can put it on top of my current map and determine which tracts I need for this project."
   ]
  },
  {
   "cell_type": "code",
   "execution_count": 1,
   "metadata": {},
   "outputs": [],
   "source": [
    "# import this library to download a txt fle to my computer\n",
    "\n",
    "import requests"
   ]
  },
  {
   "cell_type": "code",
   "execution_count": 2,
   "metadata": {},
   "outputs": [],
   "source": [
    "# create the txt file and save to my directory\n",
    "\n",
    "indiana_tract = 'https://www2.census.gov/geo/docs/maps-data/data/gazetteer/2021_Gazetteer/2021_gaz_tracts_18.txt'\n",
    "\n",
    "r = requests.get(indiana_tract)\n",
    "with open('/Users/ingridarreola/Desktop/Data Visualization/Volunteering/Indiana_Tracts.txt', 'wb') as f:\n",
    "    f.write(r.content)"
   ]
  },
  {
   "cell_type": "code",
   "execution_count": 3,
   "metadata": {},
   "outputs": [],
   "source": [
    "# Pandas will be used to move this from txt to csv\n",
    "\n",
    "import pandas as pd"
   ]
  },
  {
   "cell_type": "code",
   "execution_count": 4,
   "metadata": {},
   "outputs": [],
   "source": [
    "# read the txt and change to csv\n",
    "\n",
    "read_file = pd.read_csv (r'/Users/ingridarreola/Desktop/Data Visualization/Volunteering/Indiana_Tracts.txt')\n",
    "read_file.to_csv (r'/Users/ingridarreola/Desktop/Data Visualization/Volunteering/Indiana_Tracts.csv', index=None)"
   ]
  }
 ],
 "metadata": {
  "interpreter": {
   "hash": "aee8b7b246df8f9039afb4144a1f6fd8d2ca17a180786b69acc140d282b71a49"
  },
  "kernelspec": {
   "display_name": "Python 3.10.1 64-bit",
   "language": "python",
   "name": "python3"
  },
  "language_info": {
   "codemirror_mode": {
    "name": "ipython",
    "version": 3
   },
   "file_extension": ".py",
   "mimetype": "text/x-python",
   "name": "python",
   "nbconvert_exporter": "python",
   "pygments_lexer": "ipython3",
   "version": "3.10.1"
  },
  "orig_nbformat": 4
 },
 "nbformat": 4,
 "nbformat_minor": 2
}
