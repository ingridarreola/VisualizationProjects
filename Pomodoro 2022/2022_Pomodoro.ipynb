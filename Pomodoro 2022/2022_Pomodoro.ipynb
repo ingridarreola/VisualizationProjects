{
 "cells": [
  {
   "cell_type": "markdown",
   "metadata": {},
   "source": [
    "# 2022 Pomodoro\n",
    "\n",
    "## Purpose \n",
    "I've got a csv file with multiple years of information on how I spend time working on tasks and projects. This is a notebook that is going to clean up the file I have for all my pomodoro tasks. Previously I've done this cleaning in google sheets. I'd like to clean this up with pandas since I'm leaning Python.\n",
    "\n",
    "## Data\n",
    "This is my personal data, I use an app called BeFocused Pro which is a timer set for 25 minutes, a user can assign this timer to specific tasks. It's what I use when I work on projects, school assignments, work tasks, just about for everything. It's a method that I use to stay focused on a task. The data consists of time stamps and includes information from the 2017 to present day.\n",
    "\n",
    "## Data Cleaning\n",
    "\n",
    "1. Import pandas and use the *read.csv* to read the csv with all of my data\n",
    "2. Review the columns present in my data with `data.columns` & then use `data.describe()` to review the characteristics of the numeric fields\n",
    "3. Remove duplicates that may be present here with `data.drop_duplicates(inplace = True)` will drop and save it to the current data, otherwise it would create a new data\n",
    "4. Remove any nulls that may be present with `data.isnull().any()` -- the `.any()` will check to see for each column if there are any null values at all"
   ]
  },
  {
   "cell_type": "code",
   "execution_count": 11,
   "metadata": {},
   "outputs": [
    {
     "name": "stdout",
     "output_type": "stream",
     "text": [
      "Collecting pandas\n",
      "  Downloading pandas-1.4.0-cp310-cp310-macosx_11_0_arm64.whl (10.5 MB)\n",
      "     |████████████████████████████████| 10.5 MB 1.5 MB/s            \n",
      "\u001b[?25hCollecting numpy>=1.21.0\n",
      "  Downloading numpy-1.22.1-cp310-cp310-macosx_11_0_arm64.whl (12.8 MB)\n",
      "     |████████████████████████████████| 12.8 MB 28.5 MB/s            \n",
      "\u001b[?25hRequirement already satisfied: python-dateutil>=2.8.1 in /Library/Frameworks/Python.framework/Versions/3.10/lib/python3.10/site-packages (from pandas) (2.8.2)\n",
      "Collecting pytz>=2020.1\n",
      "  Downloading pytz-2021.3-py2.py3-none-any.whl (503 kB)\n",
      "     |████████████████████████████████| 503 kB 26.3 MB/s            \n",
      "\u001b[?25hRequirement already satisfied: six>=1.5 in /Library/Frameworks/Python.framework/Versions/3.10/lib/python3.10/site-packages (from python-dateutil>=2.8.1->pandas) (1.16.0)\n",
      "Installing collected packages: pytz, numpy, pandas\n",
      "Successfully installed numpy-1.22.1 pandas-1.4.0 pytz-2021.3\n",
      "Note: you may need to restart the kernel to use updated packages.\n"
     ]
    }
   ],
   "source": [
    "pip install pandas"
   ]
  },
  {
   "cell_type": "code",
   "execution_count": 35,
   "metadata": {},
   "outputs": [
    {
     "name": "stdout",
     "output_type": "stream",
     "text": [
      "Collecting datetime\n",
      "  Downloading DateTime-4.3-py2.py3-none-any.whl (60 kB)\n",
      "     |████████████████████████████████| 60 kB 1.2 MB/s            \n",
      "\u001b[?25hCollecting zope.interface\n",
      "  Downloading zope.interface-5.4.0.tar.gz (249 kB)\n",
      "     |████████████████████████████████| 249 kB 2.4 MB/s            \n",
      "\u001b[?25h  Preparing metadata (setup.py) ... \u001b[?25ldone\n",
      "\u001b[?25hRequirement already satisfied: pytz in /Library/Frameworks/Python.framework/Versions/3.10/lib/python3.10/site-packages (from datetime) (2021.3)\n",
      "Requirement already satisfied: setuptools in /Library/Frameworks/Python.framework/Versions/3.10/lib/python3.10/site-packages (from zope.interface->datetime) (58.1.0)\n",
      "Using legacy 'setup.py install' for zope.interface, since package 'wheel' is not installed.\n",
      "Installing collected packages: zope.interface, datetime\n",
      "    Running setup.py install for zope.interface ... \u001b[?25ldone\n",
      "\u001b[?25hSuccessfully installed datetime-4.3 zope.interface-5.4.0\n",
      "Note: you may need to restart the kernel to use updated packages.\n"
     ]
    }
   ],
   "source": [
    "pip install datetime"
   ]
  },
  {
   "cell_type": "markdown",
   "metadata": {},
   "source": [
    "### Import Data - Step 1"
   ]
  },
  {
   "cell_type": "code",
   "execution_count": 1,
   "metadata": {},
   "outputs": [],
   "source": [
    "import pandas as pd\n",
    "\n",
    "data = pd.read_csv(\"/Users/ingridarreola/Documents/GitHub/VisualizationProjects/Pomodoro 2022/Feb_4.csv\")"
   ]
  },
  {
   "cell_type": "markdown",
   "metadata": {},
   "source": [
    "### Data Cleaning - Step 2"
   ]
  },
  {
   "cell_type": "code",
   "execution_count": 2,
   "metadata": {},
   "outputs": [
    {
     "data": {
      "text/html": [
       "<div>\n",
       "<style scoped>\n",
       "    .dataframe tbody tr th:only-of-type {\n",
       "        vertical-align: middle;\n",
       "    }\n",
       "\n",
       "    .dataframe tbody tr th {\n",
       "        vertical-align: top;\n",
       "    }\n",
       "\n",
       "    .dataframe thead th {\n",
       "        text-align: right;\n",
       "    }\n",
       "</style>\n",
       "<table border=\"1\" class=\"dataframe\">\n",
       "  <thead>\n",
       "    <tr style=\"text-align: right;\">\n",
       "      <th></th>\n",
       "      <th>Start_date</th>\n",
       "      <th>Duration</th>\n",
       "      <th>Assigned_Task</th>\n",
       "      <th>Task_State</th>\n",
       "    </tr>\n",
       "  </thead>\n",
       "  <tbody>\n",
       "    <tr>\n",
       "      <th>0</th>\n",
       "      <td>NaN</td>\n",
       "      <td>NaN</td>\n",
       "      <td>NaN</td>\n",
       "      <td>NaN</td>\n",
       "    </tr>\n",
       "    <tr>\n",
       "      <th>1</th>\n",
       "      <td>Sep 5  2017 at 8:49:26 PM</td>\n",
       "      <td>25.0</td>\n",
       "      <td>Parachute book</td>\n",
       "      <td>Done</td>\n",
       "    </tr>\n",
       "    <tr>\n",
       "      <th>2</th>\n",
       "      <td>Sep 6  2017 at 2:25:52 PM</td>\n",
       "      <td>25.0</td>\n",
       "      <td>STAR</td>\n",
       "      <td>Done</td>\n",
       "    </tr>\n",
       "    <tr>\n",
       "      <th>3</th>\n",
       "      <td>Sep 6  2017 at 3:05:30 PM</td>\n",
       "      <td>25.0</td>\n",
       "      <td>STAR</td>\n",
       "      <td>Done</td>\n",
       "    </tr>\n",
       "    <tr>\n",
       "      <th>4</th>\n",
       "      <td>Sep 6  2017 at 3:38:43 PM</td>\n",
       "      <td>25.0</td>\n",
       "      <td>STAR</td>\n",
       "      <td>Done</td>\n",
       "    </tr>\n",
       "  </tbody>\n",
       "</table>\n",
       "</div>"
      ],
      "text/plain": [
       "                  Start_date  Duration   Assigned_Task Task_State\n",
       "0                        NaN       NaN             NaN        NaN\n",
       "1  Sep 5  2017 at 8:49:26 PM      25.0  Parachute book      Done \n",
       "2  Sep 6  2017 at 2:25:52 PM      25.0            STAR      Done \n",
       "3  Sep 6  2017 at 3:05:30 PM      25.0            STAR      Done \n",
       "4  Sep 6  2017 at 3:38:43 PM      25.0            STAR      Done "
      ]
     },
     "execution_count": 2,
     "metadata": {},
     "output_type": "execute_result"
    }
   ],
   "source": [
    "#Rename columns\n",
    "\n",
    "data.columns = ['Start_date', 'Duration', 'Assigned_Task', 'Task_State']\n",
    "data.head()"
   ]
  },
  {
   "cell_type": "markdown",
   "metadata": {},
   "source": [
    "### Creating Time Stamps\n",
    "Using *pd.to_datetime* to create a time stamp and break up all of this information into more columns to break up the time & to make filtering even easier for data from the current year."
   ]
  },
  {
   "cell_type": "code",
   "execution_count": 3,
   "metadata": {},
   "outputs": [
    {
     "data": {
      "text/html": [
       "<div>\n",
       "<style scoped>\n",
       "    .dataframe tbody tr th:only-of-type {\n",
       "        vertical-align: middle;\n",
       "    }\n",
       "\n",
       "    .dataframe tbody tr th {\n",
       "        vertical-align: top;\n",
       "    }\n",
       "\n",
       "    .dataframe thead th {\n",
       "        text-align: right;\n",
       "    }\n",
       "</style>\n",
       "<table border=\"1\" class=\"dataframe\">\n",
       "  <thead>\n",
       "    <tr style=\"text-align: right;\">\n",
       "      <th></th>\n",
       "      <th>Start_date</th>\n",
       "      <th>Duration</th>\n",
       "      <th>Assigned_Task</th>\n",
       "      <th>Task_State</th>\n",
       "      <th>Time_Stamp</th>\n",
       "    </tr>\n",
       "  </thead>\n",
       "  <tbody>\n",
       "    <tr>\n",
       "      <th>0</th>\n",
       "      <td>NaN</td>\n",
       "      <td>NaN</td>\n",
       "      <td>NaN</td>\n",
       "      <td>NaN</td>\n",
       "      <td>NaT</td>\n",
       "    </tr>\n",
       "    <tr>\n",
       "      <th>1</th>\n",
       "      <td>Sep 5  2017 at 8:49:26 PM</td>\n",
       "      <td>25.0</td>\n",
       "      <td>Parachute book</td>\n",
       "      <td>Done</td>\n",
       "      <td>2017-09-05 20:49:26</td>\n",
       "    </tr>\n",
       "    <tr>\n",
       "      <th>2</th>\n",
       "      <td>Sep 6  2017 at 2:25:52 PM</td>\n",
       "      <td>25.0</td>\n",
       "      <td>STAR</td>\n",
       "      <td>Done</td>\n",
       "      <td>2017-09-06 14:25:52</td>\n",
       "    </tr>\n",
       "    <tr>\n",
       "      <th>3</th>\n",
       "      <td>Sep 6  2017 at 3:05:30 PM</td>\n",
       "      <td>25.0</td>\n",
       "      <td>STAR</td>\n",
       "      <td>Done</td>\n",
       "      <td>2017-09-06 15:05:30</td>\n",
       "    </tr>\n",
       "    <tr>\n",
       "      <th>4</th>\n",
       "      <td>Sep 6  2017 at 3:38:43 PM</td>\n",
       "      <td>25.0</td>\n",
       "      <td>STAR</td>\n",
       "      <td>Done</td>\n",
       "      <td>2017-09-06 15:38:43</td>\n",
       "    </tr>\n",
       "  </tbody>\n",
       "</table>\n",
       "</div>"
      ],
      "text/plain": [
       "                  Start_date  Duration   Assigned_Task Task_State  \\\n",
       "0                        NaN       NaN             NaN        NaN   \n",
       "1  Sep 5  2017 at 8:49:26 PM      25.0  Parachute book      Done    \n",
       "2  Sep 6  2017 at 2:25:52 PM      25.0            STAR      Done    \n",
       "3  Sep 6  2017 at 3:05:30 PM      25.0            STAR      Done    \n",
       "4  Sep 6  2017 at 3:38:43 PM      25.0            STAR      Done    \n",
       "\n",
       "           Time_Stamp  \n",
       "0                 NaT  \n",
       "1 2017-09-05 20:49:26  \n",
       "2 2017-09-06 14:25:52  \n",
       "3 2017-09-06 15:05:30  \n",
       "4 2017-09-06 15:38:43  "
      ]
     },
     "execution_count": 3,
     "metadata": {},
     "output_type": "execute_result"
    }
   ],
   "source": [
    "# Create a time stamp as an additional column in the csv\n",
    "\n",
    "data['Time_Stamp'] = pd.to_datetime(data['Start_date'])\n",
    "\n",
    "stamp = pd.to_datetime(data['Start_date'])\n",
    "\n",
    "data.head()"
   ]
  },
  {
   "cell_type": "code",
   "execution_count": 4,
   "metadata": {},
   "outputs": [
    {
     "data": {
      "text/html": [
       "<div>\n",
       "<style scoped>\n",
       "    .dataframe tbody tr th:only-of-type {\n",
       "        vertical-align: middle;\n",
       "    }\n",
       "\n",
       "    .dataframe tbody tr th {\n",
       "        vertical-align: top;\n",
       "    }\n",
       "\n",
       "    .dataframe thead th {\n",
       "        text-align: right;\n",
       "    }\n",
       "</style>\n",
       "<table border=\"1\" class=\"dataframe\">\n",
       "  <thead>\n",
       "    <tr style=\"text-align: right;\">\n",
       "      <th></th>\n",
       "      <th>Start_date</th>\n",
       "      <th>Duration</th>\n",
       "      <th>Assigned_Task</th>\n",
       "      <th>Task_State</th>\n",
       "      <th>Time_Stamp</th>\n",
       "      <th>Short_Date</th>\n",
       "      <th>Year</th>\n",
       "      <th>Day</th>\n",
       "    </tr>\n",
       "  </thead>\n",
       "  <tbody>\n",
       "    <tr>\n",
       "      <th>0</th>\n",
       "      <td>NaN</td>\n",
       "      <td>NaN</td>\n",
       "      <td>NaN</td>\n",
       "      <td>NaN</td>\n",
       "      <td>NaT</td>\n",
       "      <td>NaN</td>\n",
       "      <td>NaN</td>\n",
       "      <td>NaN</td>\n",
       "    </tr>\n",
       "    <tr>\n",
       "      <th>1</th>\n",
       "      <td>Sep 5  2017 at 8:49:26 PM</td>\n",
       "      <td>25.0</td>\n",
       "      <td>Parachute book</td>\n",
       "      <td>Done</td>\n",
       "      <td>2017-09-05 20:49:26</td>\n",
       "      <td>09/05/2017</td>\n",
       "      <td>2017</td>\n",
       "      <td>05</td>\n",
       "    </tr>\n",
       "    <tr>\n",
       "      <th>2</th>\n",
       "      <td>Sep 6  2017 at 2:25:52 PM</td>\n",
       "      <td>25.0</td>\n",
       "      <td>STAR</td>\n",
       "      <td>Done</td>\n",
       "      <td>2017-09-06 14:25:52</td>\n",
       "      <td>09/06/2017</td>\n",
       "      <td>2017</td>\n",
       "      <td>06</td>\n",
       "    </tr>\n",
       "    <tr>\n",
       "      <th>3</th>\n",
       "      <td>Sep 6  2017 at 3:05:30 PM</td>\n",
       "      <td>25.0</td>\n",
       "      <td>STAR</td>\n",
       "      <td>Done</td>\n",
       "      <td>2017-09-06 15:05:30</td>\n",
       "      <td>09/06/2017</td>\n",
       "      <td>2017</td>\n",
       "      <td>06</td>\n",
       "    </tr>\n",
       "    <tr>\n",
       "      <th>4</th>\n",
       "      <td>Sep 6  2017 at 3:38:43 PM</td>\n",
       "      <td>25.0</td>\n",
       "      <td>STAR</td>\n",
       "      <td>Done</td>\n",
       "      <td>2017-09-06 15:38:43</td>\n",
       "      <td>09/06/2017</td>\n",
       "      <td>2017</td>\n",
       "      <td>06</td>\n",
       "    </tr>\n",
       "  </tbody>\n",
       "</table>\n",
       "</div>"
      ],
      "text/plain": [
       "                  Start_date  Duration   Assigned_Task Task_State  \\\n",
       "0                        NaN       NaN             NaN        NaN   \n",
       "1  Sep 5  2017 at 8:49:26 PM      25.0  Parachute book      Done    \n",
       "2  Sep 6  2017 at 2:25:52 PM      25.0            STAR      Done    \n",
       "3  Sep 6  2017 at 3:05:30 PM      25.0            STAR      Done    \n",
       "4  Sep 6  2017 at 3:38:43 PM      25.0            STAR      Done    \n",
       "\n",
       "           Time_Stamp  Short_Date  Year  Day  \n",
       "0                 NaT         NaN   NaN  NaN  \n",
       "1 2017-09-05 20:49:26  09/05/2017  2017   05  \n",
       "2 2017-09-06 14:25:52  09/06/2017  2017   06  \n",
       "3 2017-09-06 15:05:30  09/06/2017  2017   06  \n",
       "4 2017-09-06 15:38:43  09/06/2017  2017   06  "
      ]
     },
     "execution_count": 4,
     "metadata": {},
     "output_type": "execute_result"
    }
   ],
   "source": [
    "data['Short_Date'] = stamp.dt.strftime('%m/%d/%Y')\n",
    "\n",
    "data['Year'] = stamp.dt.strftime('%Y')\n",
    "\n",
    "data['Day'] = stamp.dt.strftime('%d')\n",
    "\n",
    "data.head()"
   ]
  },
  {
   "cell_type": "markdown",
   "metadata": {},
   "source": [
    "### 2022 Data"
   ]
  },
  {
   "cell_type": "code",
   "execution_count": 14,
   "metadata": {},
   "outputs": [],
   "source": [
    "# Interested in 2022 for present year analysis\n",
    "\n",
    "current_year = data['Short_Date'] >= '1/1/2022'"
   ]
  },
  {
   "cell_type": "code",
   "execution_count": 12,
   "metadata": {},
   "outputs": [],
   "source": [
    "data.to_csv('/Users/ingridarreola/Documents/GitHub/VisualizationProjects/Pomodoro 2022/Feb_4_2022.csv')"
   ]
  }
 ],
 "metadata": {
  "interpreter": {
   "hash": "aee8b7b246df8f9039afb4144a1f6fd8d2ca17a180786b69acc140d282b71a49"
  },
  "kernelspec": {
   "display_name": "Python 3.10.1 64-bit",
   "language": "python",
   "name": "python3"
  },
  "language_info": {
   "codemirror_mode": {
    "name": "ipython",
    "version": 3
   },
   "file_extension": ".py",
   "mimetype": "text/x-python",
   "name": "python",
   "nbconvert_exporter": "python",
   "pygments_lexer": "ipython3",
   "version": "3.10.1"
  },
  "orig_nbformat": 4
 },
 "nbformat": 4,
 "nbformat_minor": 2
}
